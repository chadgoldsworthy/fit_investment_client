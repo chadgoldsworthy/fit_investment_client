{
  "cells": [
    {
      "cell_type": "code",
      "source": [
        "# Imports\n",
        "from pyspark.sql.functions import lit\n",
        "from pyspark.sql import SparkSession\n",
        "from pyspark.sql.functions import col\n",
        "from datetime import date\n",
        "from pyspark.sql.types import LongType, IntegerType, DecimalType, BooleanType, DateType, StringType, StructField, StructType"
      ],
      "outputs": [],
      "execution_count": 1,
      "metadata": {
        "jupyter": {
          "source_hidden": false,
          "outputs_hidden": false
        },
        "nteract": {
          "transient": {
            "deleting": false
          }
        }
      }
    },
    {
      "cell_type": "code",
      "source": [
        "# Inputs\n",
        "batch_id = \"\"\n",
        "file_name = \"\"\n",
        "directory = \"\"\n",
        "provider = \"\"\n",
        "data_source = \"\"\n",
        "\n",
        "database_password = \"\"\n",
        "blob_account_key = \"\"\n",
        "blob_sas_token = \"\""
      ],
      "outputs": [],
      "execution_count": 15,
      "metadata": {
        "tags": [
          "parameters"
        ]
      }
    },
    {
      "cell_type": "code",
      "source": [
        "%run Library/functions"
      ],
      "outputs": [],
      "execution_count": 16,
      "metadata": {
        "jupyter": {
          "source_hidden": false,
          "outputs_hidden": false
        },
        "nteract": {
          "transient": {
            "deleting": false
          }
        }
      }
    },
    {
      "cell_type": "code",
      "source": [
        "configs = config_get(database_password, blob_account_key, blob_sas_token)"
      ],
      "outputs": [],
      "execution_count": 17,
      "metadata": {
        "jupyter": {
          "source_hidden": false,
          "outputs_hidden": false
        },
        "nteract": {
          "transient": {
            "deleting": false
          }
        }
      }
    },
    {
      "cell_type": "code",
      "source": [
        "df = file_load(configs, \n",
        "    directory, \n",
        "    file_name, \n",
        "    \"|\"\n",
        "  )\n",
        "\n",
        "display(df)"
      ],
      "outputs": [],
      "execution_count": 18,
      "metadata": {
        "jupyter": {
          "source_hidden": false,
          "outputs_hidden": false
        },
        "nteract": {
          "transient": {
            "deleting": false
          }
        },
        "collapsed": false
      }
    },
    {
      "cell_type": "code",
      "source": [
        "sql = \"(SELECT Id AS StoreFundId, FundCode AS StoreFundCode FROM store.entity_all_fund) fund\"\n",
        "df_fund = sql_dataframe(configs, sql)\n",
        "\n",
        "sql = \"(SELECT Id AS StorePolicyId, PolicyNumber AS StorePolicyNumber FROM store.entity_all_policy) policy\"\n",
        "df_policy = sql_dataframe(configs, sql)\n",
        "\n",
        "sql = \"(SELECT Id AS StoreProductId, ProductCode AS StoreProductCode FROM store.entity_all_product) product\"\n",
        "df_products = sql_dataframe(configs, sql)\n",
        "\n",
        "sql = \"(SELECT Id AS StoreUnitHolderId, UnitHolderCode AS StoreUnitHolderCode FROM store.entity_all_unit_holder) unit_holder\"\n",
        "df_unit_holder = sql_dataframe(configs, sql)    \n",
        "\n",
        "sql = \"(SELECT Id AS StoreDistributionId, DistributionNumber AS StoreDistributionNumber FROM store.fact_fund_distribution) distribution\"\n",
        "df_distribution = sql_dataframe(configs, sql)\n",
        "\n",
        "sql = \"(SELECT Id AS StoreDistMasterId, DistributionComponentCode AS StoreDistMasterCompCode FROM reference.distribution_component_master) distcompmast\"\n",
        "df_dc_master = sql_dataframe(configs, sql)"
      ],
      "outputs": [],
      "execution_count": 19,
      "metadata": {
        "jupyter": {
          "source_hidden": false,
          "outputs_hidden": false
        },
        "nteract": {
          "transient": {
            "deleting": false
          }
        }
      }
    },
    {
      "cell_type": "code",
      "source": [
        "df = df.join(df_products, df[\"ProductId\"] == df_products[\"StoreProductCode\"], \"left\")\n",
        "\n",
        "df = df.join(df_policy, df[\"PolicyNumber\"] == df_policy[\"StorePolicyNumber\"], \"left\")\n",
        "\n",
        "df = df.join(df_unit_holder, df[\"UnitHolderId\"] == df_unit_holder[\"StoreUnitHolderCode\"], \"left\")\n",
        "\n",
        "df = df.join(df_fund, df[\"FundId\"] == df_fund[\"StoreFundCode\"], \"left\")\n",
        "\n",
        "df = df.join(df_distribution, df[\"DistributionNumber\"] == df_distribution[\"StoreDistributionNumber\"], \"left\")\n",
        "\n",
        "df = df.join(df_dc_master, df[\"DistributionComponentCode\"] == df_dc_master[\"StoreDistMasterCompCode\"], \"left\")\n",
        "\n",
        "# display(df)"
      ],
      "outputs": [],
      "execution_count": 25,
      "metadata": {
        "jupyter": {
          "source_hidden": false,
          "outputs_hidden": false
        },
        "nteract": {
          "transient": {
            "deleting": false
          }
        },
        "collapsed": false
      }
    },
    {
      "cell_type": "code",
      "source": [
        "df_mapped = df.select([\r\n",
        "    lit(int(0)).alias(\"Id\").cast(LongType()),\r\n",
        "    lit(batch_id).alias(\"BatchId\"),\r\n",
        "    lit(col(\"DistributionNumber\").isNotNull() & col(\"DistributionDate\").isNotNull()).alias(\"IsValid\"),\r\n",
        "    lit(provider).alias(\"Provider\"),\r\n",
        "    lit(data_source).alias(\"DataSource\"),\r\n",
        "\r\n",
        "    col(\"StoreUnitHolderId\").alias(\"UnitHolderId\").cast(LongType()),\r\n",
        "    col(\"StoreProductId\").alias(\"ProductId\").cast(LongType()),\r\n",
        "    col(\"StoreFundId\").alias(\"FundId\").cast(LongType()),\r\n",
        "    col(\"StorePolicyId\").alias(\"PolicyId\").cast(LongType()),\r\n",
        "    col(\"StoreDistributionId\").alias(\"DistributionId\").cast(LongType()),\r\n",
        "    col(\"StoreDistMasterId\").alias(\"DistributionComponentMasterId\").cast(LongType()),\r\n",
        "    \r\n",
        "    col(\"PolicyNumber\"),\r\n",
        "    \r\n",
        "    col(\"DistributionComponentCode\"),\r\n",
        "\tcol(\"DistributionComponentName\"),\r\n",
        "\tcol(\"DistributionNumber\").cast(LongType()),\r\n",
        "\tcol(\"DistributionDate\").cast(DateType()),\r\n",
        "\tcol(\"DistributionComponentAmount\").cast(DecimalType(20,5)),\r\n",
        "\tcol(\"DistributionComponentCPU\").cast(DecimalType(20,5)),\r\n",
        "\tcol(\"DistributionComponentUnits\").cast(DecimalType(20,5)),\r\n",
        "\tcol(\"Currency\"),\r\n",
        "\tcol(\"ReversalIndicator\"),\r\n",
        "\tcol(\"ComponentTax\").cast(IntegerType()),\r\n",
        "\tcol(\"PaymentNumber\"),\r\n",
        "\tcol(\"FactPolicyDistributionComponentTransactionKey\").cast(LongType()),\r\n",
        "\tcol(\"ProductKey\").cast(LongType()),\r\n",
        "\tcol(\"PolicyKey\").cast(LongType()),\r\n",
        "\tcol(\"UnitHolderKey\").cast(LongType()),\r\n",
        "\tcol(\"FundKey\").cast(LongType()),\r\n",
        "\tcol(\"DistributionComponentKey\").cast(LongType())])\r\n",
        "\r\n",
        "# display(df_mapped)"
      ],
      "outputs": [],
      "execution_count": 26,
      "metadata": {
        "jupyter": {
          "source_hidden": false,
          "outputs_hidden": true
        },
        "nteract": {
          "transient": {
            "deleting": false
          }
        },
        "collapsed": false
      }
    },
    {
      "cell_type": "code",
      "source": [
        "sql_append(configs, df_mapped, \"stage.fact_policy_distribution_component\")"
      ],
      "outputs": [],
      "execution_count": 28,
      "metadata": {
        "jupyter": {
          "source_hidden": false,
          "outputs_hidden": false
        },
        "nteract": {
          "transient": {
            "deleting": false
          }
        }
      }
    },
    {
      "cell_type": "code",
      "source": [],
      "outputs": [],
      "execution_count": null,
      "metadata": {
        "jupyter": {
          "source_hidden": false,
          "outputs_hidden": false
        },
        "nteract": {
          "transient": {
            "deleting": false
          }
        }
      }
    }
  ],
  "metadata": {
    "kernelspec": {
      "name": "synapse_pyspark",
      "display_name": "Synapse PySpark"
    },
    "language_info": {
      "name": "python"
    },
    "save_output": true,
    "synapse_widget": {
      "version": "0.1",
      "state": {}
    }
  },
  "nbformat": 4,
  "nbformat_minor": 2
}